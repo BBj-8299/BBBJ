{
 "cells": [
  {
   "cell_type": "code",
   "execution_count": 4,
   "id": "38e8e0fd-8487-44ee-8647-8d48025a983d",
   "metadata": {},
   "outputs": [],
   "source": [
    "from zhipuai import ZhipuAI"
   ]
  },
  {
   "cell_type": "code",
   "execution_count": 8,
   "id": "79717b91-0d35-4f3a-8e43-a1ac8323bd10",
   "metadata": {},
   "outputs": [
    {
     "name": "stdout",
     "output_type": "stream",
     "text": [
      "VideoObject(id='54381732171917879-9221302137001587759', model='cogvideox', video_result=None, task_status='PROCESSING', request_id='-9221302137001587760')\n"
     ]
    }
   ],
   "source": [
    "client = ZhipuAI(api_key=\"88d999a1adbea75f7fd626364e2d1deb.N3koOTPvvjxMwsgv\")\n",
    "\n",
    "response = client.videos.generations(\n",
    "    model=\"cogvideox\",\n",
    "    prompt=\"西游记西天取经全过程\"\n",
    ")\n",
    "print(response)"
   ]
  },
  {
   "cell_type": "code",
   "execution_count": 11,
   "id": "ecbed358-4e5e-4019-99db-945cec5b4f5e",
   "metadata": {
    "tags": []
   },
   "outputs": [
    {
     "name": "stdout",
     "output_type": "stream",
     "text": [
      "VideoObject(id=None, model='cogvideox', video_result=[VideoResult(url='https://aigc-files.bigmodel.cn/api/cogvideo/83e5864a-a7dc-11ef-a354-628f45da38f5_0.mp4', cover_image_url='https://aigc-files.bigmodel.cn/api/cogvideo/83e5864a-a7dc-11ef-a354-628f45da38f5_cover_0.jpeg')], task_status='SUCCESS', request_id='-9221302068282045613')\n"
     ]
    }
   ],
   "source": [
    "from zhipuai import ZhipuAI\n",
    "client = ZhipuAI(api_key=\"88d999a1adbea75f7fd626364e2d1deb.N3koOTPvvjxMwsgv\")\n",
    "\n",
    "response = client.videos.retrieve_videos_result(\n",
    "    id='54381732171917879-9221302068282045612'\n",
    ")\n",
    "print(response)"
   ]
  },
  {
   "cell_type": "code",
   "execution_count": null,
   "id": "0bce2aae-1651-4fe8-96bd-d2c501e087ff",
   "metadata": {},
   "outputs": [],
   "source": []
  },
  {
   "cell_type": "code",
   "execution_count": null,
   "id": "57e7f66f-aa1a-49b9-a024-b03259761c0a",
   "metadata": {},
   "outputs": [],
   "source": []
  }
 ],
 "metadata": {
  "kernelspec": {
   "display_name": "Python 3 (ipykernel)",
   "language": "python",
   "name": "python3"
  },
  "language_info": {
   "codemirror_mode": {
    "name": "ipython",
    "version": 3
   },
   "file_extension": ".py",
   "mimetype": "text/x-python",
   "name": "python",
   "nbconvert_exporter": "python",
   "pygments_lexer": "ipython3",
   "version": "3.9.7"
  }
 },
 "nbformat": 4,
 "nbformat_minor": 5
}
